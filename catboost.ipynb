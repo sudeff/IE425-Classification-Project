{
 "cells": [
  {
   "cell_type": "code",
   "execution_count": 1,
   "id": "88267d4e",
   "metadata": {},
   "outputs": [],
   "source": [
    "import pandas as pd\n",
    "import numpy as np\n",
    "from sklearn.linear_model import LogisticRegression\n",
    "from sklearn.model_selection import GridSearchCV, train_test_split\n",
    "from sklearn.preprocessing import LabelEncoder, StandardScaler\n",
    "from sklearn.metrics import roc_auc_score, balanced_accuracy_score\n"
   ]
  },
  {
   "cell_type": "code",
   "execution_count": 3,
   "id": "6f8270de",
   "metadata": {},
   "outputs": [
    {
     "name": "stdout",
     "output_type": "stream",
     "text": [
      "time_stamp                   0\n",
      "contentid                    6\n",
      "user_action                  0\n",
      "sellingprice             95477\n",
      "product_name              5519\n",
      "brand_id                  5519\n",
      "brand_name                5538\n",
      "businessunit              5519\n",
      "product_gender          646903\n",
      "category_id               5519\n",
      "Level1_Category_Id        5519\n",
      "Level1_Category_Name      5519\n",
      "Level2_Category_Id        5519\n",
      "Level2_Category_Name      5519\n",
      "Level3_Category_Id        5519\n",
      "Level3_Category_Name      5519\n",
      "unique_id                    0\n",
      "type                         0\n",
      "gender                       0\n",
      "dtype: int64\n",
      "<class 'pandas.core.frame.DataFrame'>\n",
      "RangeIndex: 5567027 entries, 0 to 5567026\n",
      "Data columns (total 19 columns):\n",
      " #   Column                Dtype   \n",
      "---  ------                -----   \n",
      " 0   time_stamp            object  \n",
      " 1   contentid             object  \n",
      " 2   user_action           category\n",
      " 3   sellingprice          float64 \n",
      " 4   product_name          object  \n",
      " 5   brand_id              category\n",
      " 6   brand_name            category\n",
      " 7   businessunit          category\n",
      " 8   product_gender        category\n",
      " 9   category_id           object  \n",
      " 10  Level1_Category_Id    object  \n",
      " 11  Level1_Category_Name  category\n",
      " 12  Level2_Category_Id    object  \n",
      " 13  Level2_Category_Name  object  \n",
      " 14  Level3_Category_Id    object  \n",
      " 15  Level3_Category_Name  object  \n",
      " 16  unique_id             object  \n",
      " 17  type                  object  \n",
      " 18  gender                object  \n",
      "dtypes: category(6), float64(1), object(12)\n",
      "memory usage: 618.4+ MB\n",
      "None\n",
      "                        time_stamp   contentid user_action  sellingprice  \\\n",
      "4673518  2020-11-29 17:59:01+00:00  31UfK7mfby      search          30.0   \n",
      "5329871  2020-12-06 21:45:56+00:00  ggi0FroaSk       visit          23.0   \n",
      "616451   2020-10-21 22:58:28+00:00  zEFzIJqubi       visit         213.0   \n",
      "\n",
      "                                              product_name    brand_id  \\\n",
      "4673518  Care Yoğurt ve Bal Özlü El Kremi 75 ml 5050136...  3ILzcXmHoH   \n",
      "5329871                     Sütlü Menengiç Kahvesi 100 gr.  wdfiYby9zk   \n",
      "616451   Ruj - Powder Kiss Shocking Revelation 3 g 7736...  XSNp7f4RpQ   \n",
      "\n",
      "        brand_name    businessunit product_gender category_id  \\\n",
      "4673518       AVON     Vücut Bakım          Kadın  CMTa02fbdN   \n",
      "5329871  Has Kahve  Gıda ve İçecek         Unisex  FzmBQY8Qr8   \n",
      "616451       M.A.C          Makyaj          Kadın  St4yBv5AAM   \n",
      "\n",
      "        Level1_Category_Id      Level1_Category_Name Level2_Category_Id  \\\n",
      "4673518         bqHGsMdOiA  Kozmetik & Kişisel Bakım         HeAlqmZKEJ   \n",
      "5329871         H49TLghvRw               Süpermarket         Q3XAisPQno   \n",
      "616451          bqHGsMdOiA  Kozmetik & Kişisel Bakım         mIIfxtU5fx   \n",
      "\n",
      "        Level2_Category_Name Level3_Category_Id Level3_Category_Name  \\\n",
      "4673518         Vücut Bakımı         xQQ5huQKrq   El & Tırnak Bakımı   \n",
      "5329871        Gıda & İçecek         nr8MfW5hug                Kahve   \n",
      "616451                Makyaj         UHMrCQehCD        Dudak Makyajı   \n",
      "\n",
      "          unique_id   type gender  \n",
      "4673518  XkhIkblDf6  train      F  \n",
      "5329871  NE4XH0XYkQ  train      F  \n",
      "616451   M21V80oWet  train      F  \n"
     ]
    },
    {
     "name": "stderr",
     "output_type": "stream",
     "text": [
      "C:\\Users\\SUDE\\AppData\\Local\\Temp\\ipykernel_22768\\2723489793.py:21: FutureWarning: The default value of observed=False is deprecated and will change to observed=True in a future version of pandas. Specify observed=False to silence this warning and retain the current behavior\n",
      "  action_summary = train.pivot_table(\n"
     ]
    }
   ],
   "source": [
    "##PART 1:Data Preperation\n",
    "\n",
    "train_path = r'C:\\Users\\SUDE\\Desktop\\ie425\\IE425_Spring25_train_data.csv'\n",
    "\n",
    "train = pd.read_csv(train_path)    \n",
    "\n",
    "print(train.isna().sum()) #to check if there are any missing values\n",
    "\n",
    "train['sellingprice'] = train['sellingprice'].fillna(0)\n",
    "train['product_gender'] = train['product_gender'].fillna('Unknown')\n",
    "train['brand_id'] = train['brand_id'].fillna('unknown')\n",
    "train['brand_name'] = train['brand_name'].fillna('unknown')\n",
    "train['product_name'] = train['product_name'].fillna('unknown')\n",
    "\n",
    "for col in ['user_action', 'product_gender', 'brand_id', 'brand_name', 'businessunit', 'Level1_Category_Name']:\n",
    "    train[col] = train[col].astype('category')\n",
    "\n",
    "print(train.info())\n",
    "print(train.sample(3))\n",
    "\n",
    "action_summary = train.pivot_table(\n",
    "    index='unique_id',\n",
    "    columns='user_action',\n",
    "    aggfunc='size',\n",
    "    fill_value=0\n",
    ") "
   ]
  },
  {
   "cell_type": "code",
   "execution_count": 4,
   "id": "1cc3d7cf",
   "metadata": {},
   "outputs": [],
   "source": [
    "##PART 2:Feature Engineering\n",
    "\n",
    "# Calculate price-related statistics for each user, including the highest selling prices, average, and total prices they have interacted with.\n",
    "price_features = (\n",
    "    train.groupby('unique_id')\n",
    "         .agg(avg_price=('sellingprice', 'mean'),\n",
    "              total_price=('sellingprice', 'sum'),\n",
    "              max_price=('sellingprice', 'max'))\n",
    "         .fillna(0)\n",
    ")"
   ]
  },
  {
   "cell_type": "code",
   "execution_count": 5,
   "id": "81e1ebda",
   "metadata": {},
   "outputs": [],
   "source": [
    "#Count the frequency with which each user interacted with products that were labeled by gender to attempt to determine product gender preferences.\n",
    "product_gender_counts = (\n",
    "    train.groupby('unique_id')['product_gender']\n",
    "         .value_counts()\n",
    "         .unstack(fill_value=0)\n",
    ")\n",
    "\n",
    "product_gender_counts.columns = [f'product_gender_{col}' for col in product_gender_counts.columns]\n"
   ]
  },
  {
   "cell_type": "code",
   "execution_count": 6,
   "id": "dc7dacd1",
   "metadata": {},
   "outputs": [],
   "source": [
    "#Calculate each user's brand diversity, determine the variety of different brands each user interacted with.\n",
    "brand_counts = (\n",
    "    train.groupby('unique_id')\n",
    "         .agg(brand_variety=('brand_id', 'nunique'))\n",
    ")"
   ]
  },
  {
   "cell_type": "code",
   "execution_count": 7,
   "id": "fb352a1a",
   "metadata": {},
   "outputs": [],
   "source": [
    "#Construct a single feature matrix through combining all engineered characteristics\n",
    "user_feature_matrix = pd.concat(\n",
    "    [action_summary, price_features, product_gender_counts, brand_counts],\n",
    "    axis=1\n",
    ").fillna(0)"
   ]
  },
  {
   "cell_type": "code",
   "execution_count": 8,
   "id": "8563435d",
   "metadata": {},
   "outputs": [],
   "source": [
    "#For supervised learning, insert the target label (gender) to make sure each user has their own label.\n",
    "labels_of_users = train.groupby('unique_id')['gender'].first().reset_index()\n",
    "final_dataset = pd.merge(user_feature_matrix, labels_of_users, on='unique_id')"
   ]
  },
  {
   "cell_type": "code",
   "execution_count": 9,
   "id": "85d4566b",
   "metadata": {},
   "outputs": [
    {
     "name": "stdout",
     "output_type": "stream",
     "text": [
      "Feature engineering completed. Output saved to: train_features.csv\n"
     ]
    }
   ],
   "source": [
    "#Save the final feature matrix to disk\n",
    "output_path = r'train_features.csv'\n",
    "final_dataset.to_csv(output_path, index=False)\n",
    "print(\"Feature engineering completed. Output saved to:\", output_path)\n"
   ]
  },
  {
   "cell_type": "code",
   "execution_count": 10,
   "id": "4d511bc1",
   "metadata": {},
   "outputs": [
    {
     "name": "stdout",
     "output_type": "stream",
     "text": [
      "These are the the most important 10 features determined by Random Forest model\n",
      "                  feature  importance\n",
      "9    product_gender_Kadın    0.175069\n",
      "8    product_gender_Erkek    0.122447\n",
      "5               avg_price    0.097603\n",
      "6             total_price    0.084906\n",
      "7               max_price    0.078728\n",
      "4                   visit    0.071119\n",
      "12          brand_variety    0.068939\n",
      "3                  search    0.062816\n",
      "10  product_gender_Unisex    0.059456\n",
      "1                favorite    0.051883\n"
     ]
    },
    {
     "data": {
      "image/png": "[encoded data removed]",
      "text/plain": [
       "<Figure size 800x400 with 1 Axes>"
      ]
     },
     "metadata": {},
     "output_type": "display_data"
    }
   ],
   "source": [
    "##PART 3:Feature Selection \n",
    "\n",
    "#i) Feature Selection with Random Forest\n",
    "from sklearn.ensemble import RandomForestClassifier\n",
    "from sklearn.model_selection import train_test_split\n",
    "import matplotlib.pyplot as plt\n",
    "\n",
    "data_path = r'train_features.csv'\n",
    "df = pd.read_csv(data_path)\n",
    "\n",
    "# Separate features and label them\n",
    "X = df.drop(columns=['unique_id', 'gender'])\n",
    "y = df['gender']\n",
    " \n",
    "y_encoded = y.map({'F': 1, 'M': 0})\n",
    "\n",
    "# Train/test split \n",
    "X_train, X_test, y_train, y_test = train_test_split(X, y_encoded, test_size=0.2, random_state=42)\n",
    "\n",
    "# Fit a Random Forest model \n",
    "rf = RandomForestClassifier(n_estimators=100, random_state=42)\n",
    "rf.fit(X_train, y_train)\n",
    "\n",
    "# Get feature importances\n",
    "importances = rf.feature_importances_\n",
    "feature_names = X.columns\n",
    "\n",
    "# Combine and sort\n",
    "importance_df = pd.DataFrame({'feature': feature_names, 'importance': importances})\n",
    "importance_df = importance_df.sort_values(by='importance', ascending=False)\n",
    "\n",
    "print(\"These are the the most important 10 features determined by Random Forest model\")\n",
    "print(importance_df.head(10))\n",
    "\n",
    "\n",
    "plt.figure(figsize=(8, 4))\n",
    "plt.barh(importance_df['feature'][:10][::-1], importance_df['importance'][:10][::-1])\n",
    "plt.title('Most Important 10 Features')\n",
    "plt.xlabel('Feature Importance')\n",
    "plt.tight_layout()\n",
    "plt.show()"
   ]
  },
  {
   "cell_type": "code",
   "execution_count": 11,
   "id": "2c7508c7",
   "metadata": {},
   "outputs": [
    {
     "name": "stdout",
     "output_type": "stream",
     "text": [
      " Features selected by Lasso:\n",
      "basket\n",
      "favorite\n",
      "order\n",
      "search\n",
      "visit\n",
      "avg_price\n",
      "max_price\n",
      "product_gender_Erkek\n",
      "product_gender_Kadın\n",
      "product_gender_Unknown\n",
      "brand_variety\n",
      "\n",
      " Features eliminated (2 features):\n",
      "['total_price', 'product_gender_Unisex']\n"
     ]
    }
   ],
   "source": [
    "#ii) Feature Selection with Lasso Regression\n",
    "\n",
    "from sklearn.linear_model import LogisticRegression\n",
    "from sklearn.preprocessing import StandardScaler\n",
    "from sklearn.model_selection import train_test_split\n",
    "\n",
    "df = pd.read_csv('train_features.csv')\n",
    "\n",
    "# Prepare features and label \n",
    "X = df.drop(columns=['unique_id', 'gender'])\n",
    "y = df['gender'].map({'M': 0, 'F': 1})  \n",
    "     \n",
    "\n",
    "# Standardize features \n",
    "scaler = StandardScaler()\n",
    "X_scaled = scaler.fit_transform(X)\n",
    "     \n",
    "\n",
    "# Train/Test split \n",
    "X_train, X_test, y_train, y_test = train_test_split(X_scaled, y, test_size=0.2, random_state=42)\n",
    "     \n",
    "\n",
    "\n",
    "# Apply Lasso Logistic Regression \n",
    "lasso = LogisticRegression(penalty='l1', solver='liblinear', random_state=42, max_iter=1000)\n",
    "lasso.fit(X_train, y_train)\n",
    "     \n",
    "LogisticRegression(max_iter=1000, penalty='l1', random_state=42,\n",
    "                   solver='liblinear')\n",
    "\n",
    "# Identify selected and eliminated features \n",
    "coef = lasso.coef_[0]\n",
    "selected_features = [feature for feature, weight in zip(X.columns, coef) if weight != 0]\n",
    "dropped_features = [feature for feature, weight in zip(X.columns, coef) if weight == 0]\n",
    "     \n",
    "\n",
    "# results \n",
    "print(\" Features selected by Lasso:\")\n",
    "for f in selected_features:\n",
    "    print(f)\n",
    "\n",
    "print(f\"\\n Features eliminated ({len(dropped_features)} features):\")\n",
    "print(dropped_features)"
   ]
  },
  {
   "cell_type": "code",
   "execution_count": 13,
   "id": "3c2a9e8e",
   "metadata": {},
   "outputs": [
    {
     "name": "stdout",
     "output_type": "stream",
     "text": [
      "Mean AUC (CatBoost): 0.8584\n",
      "Mean BER (CatBoost): 0.2432\n"
     ]
    }
   ],
   "source": [
    "from catboost import CatBoostClassifier, Pool\n",
    "from sklearn.model_selection import StratifiedKFold\n",
    "from sklearn.metrics import roc_auc_score, balanced_accuracy_score\n",
    "import pandas as pd\n",
    "import numpy as np\n",
    "\n",
    "# Load features\n",
    "df = pd.read_csv(\"train_features.csv\")\n",
    "X = df.drop(columns=['unique_id', 'gender'])\n",
    "y = df['gender'].map({'M': 0, 'F': 1})\n",
    "\n",
    "# Automatically detect categorical features (non-numeric)\n",
    "cat_features = X.select_dtypes(include='object').columns.tolist()\n",
    "\n",
    "# Initialize model\n",
    "cat_model = CatBoostClassifier(\n",
    "    iterations=200,\n",
    "    learning_rate=0.05,\n",
    "    depth=6,\n",
    "    eval_metric='AUC',\n",
    "    random_seed=42,\n",
    "    verbose=0\n",
    ")\n",
    "\n",
    "# Cross-validation\n",
    "cv = StratifiedKFold(n_splits=5, shuffle=True, random_state=42)\n",
    "auc_scores, ber_scores = [], []\n",
    "\n",
    "for train_idx, val_idx in cv.split(X, y):\n",
    "    X_train, X_val = X.iloc[train_idx], X.iloc[val_idx]\n",
    "    y_train, y_val = y.iloc[train_idx], y.iloc[val_idx]\n",
    "\n",
    "    train_pool = Pool(X_train, y_train, cat_features=cat_features)\n",
    "    val_pool = Pool(X_val, y_val, cat_features=cat_features)\n",
    "    \n",
    "    cat_model.fit(train_pool)\n",
    "    y_pred_proba = cat_model.predict_proba(val_pool)[:, 1]\n",
    "    y_pred = (y_pred_proba >= 0.5).astype(int)\n",
    "\n",
    "    auc_scores.append(roc_auc_score(y_val, y_pred_proba))\n",
    "    ber_scores.append(1 - balanced_accuracy_score(y_val, y_pred))\n",
    "\n",
    "print(f\"Mean AUC (CatBoost): {np.mean(auc_scores):.4f}\")\n",
    "print(f\"Mean BER (CatBoost): {np.mean(ber_scores):.4f}\")\n"
   ]
  },
  {
   "cell_type": "code",
   "execution_count": 14,
   "id": "2c389be8",
   "metadata": {},
   "outputs": [
    {
     "name": "stdout",
     "output_type": "stream",
     "text": [
      "                   Feature  Importance\n",
      "9     product_gender_Kadın   30.738002\n",
      "8     product_gender_Erkek   26.514432\n",
      "1                 favorite    6.780231\n",
      "5                avg_price    6.361162\n",
      "12           brand_variety    4.125414\n",
      "2                    order    3.839269\n",
      "7                max_price    3.570468\n",
      "6              total_price    3.480835\n",
      "11  product_gender_Unknown    3.346778\n",
      "10   product_gender_Unisex    2.920118\n"
     ]
    }
   ],
   "source": [
    "# Modeli tüm veride yeniden eğitiyoruz\n",
    "from catboost import Pool\n",
    "\n",
    "full_pool = Pool(X, y, cat_features=cat_features)\n",
    "cat_model.fit(full_pool)\n",
    "\n",
    "# Özellik önemleri\n",
    "importances = cat_model.get_feature_importance(full_pool)\n",
    "importance_df = pd.DataFrame({\n",
    "    'Feature': X.columns,\n",
    "    'Importance': importances\n",
    "}).sort_values(by='Importance', ascending=False)\n",
    "\n",
    "print(importance_df.head(10))\n"
   ]
  },
  {
   "cell_type": "code",
   "execution_count": 17,
   "id": "f46467f6",
   "metadata": {},
   "outputs": [],
   "source": [
    "import pandas as pd\n",
    "\n",
    "test = pd.read_csv(r'C:\\Users\\SUDE\\Desktop\\425test\\IE425_Spring25_test_data.csv')\n"
   ]
  },
  {
   "cell_type": "code",
   "execution_count": 19,
   "id": "dbdd9c13",
   "metadata": {},
   "outputs": [],
   "source": [
    "import pandas as pd\n",
    "\n",
    "# Load the train feature matrix (which includes the full feature structure)\n",
    "train_features = pd.read_csv(\"train_features.csv\")\n",
    "\n",
    "# Drop target and ID to get only feature columns\n",
    "expected_columns = train_features.drop(columns=['unique_id', 'gender']).columns.tolist()\n"
   ]
  },
  {
   "cell_type": "code",
   "execution_count": 20,
   "id": "408d38b5",
   "metadata": {},
   "outputs": [
    {
     "name": "stdout",
     "output_type": "stream",
     "text": [
      "✅ Test features aligned. Shape: (2400, 13)\n"
     ]
    }
   ],
   "source": [
    "# Drop unique_id temporarily\n",
    "X_test = user_features_test.drop(columns=['unique_id'])\n",
    "\n",
    "# Eksik kolonları sıfırla\n",
    "for col in expected_columns:\n",
    "    if col not in X_test.columns:\n",
    "        X_test[col] = 0\n",
    "\n",
    "# Fazla kolonları çıkar\n",
    "X_test = X_test[expected_columns]\n",
    "\n",
    "# Final test input (modelle aynı sırada ve yapıda)\n",
    "print(\"✅ Test features aligned. Shape:\", X_test.shape)\n"
   ]
  },
  {
   "cell_type": "code",
   "execution_count": 23,
   "id": "8e88fcfd",
   "metadata": {},
   "outputs": [],
   "source": [
    "from catboost import Pool\n",
    "\n",
    "# categorical_features değişkenini tekrar tanımlayalım (modelde kullanmıştık)\n",
    "cat_features = X.select_dtypes(include='object').columns.tolist()\n",
    "\n",
    "# CatBoost için test seti Pool formatına dönüştürülür\n",
    "test_pool = Pool(data=X_test, cat_features=cat_features)\n"
   ]
  },
  {
   "cell_type": "code",
   "execution_count": 26,
   "id": "d3bbd1f2",
   "metadata": {},
   "outputs": [
    {
     "name": "stdout",
     "output_type": "stream",
     "text": [
      "✅ Test features aligned. Shape: (2400, 13)\n"
     ]
    }
   ],
   "source": [
    "# Drop unique_id temporarily\n",
    "X_test = user_features_test.drop(columns=['unique_id'])\n",
    "\n",
    "# Eksik kolonları sıfırla\n",
    "for col in expected_columns:\n",
    "    if col not in X_test.columns:\n",
    "        X_test[col] = 0\n",
    "\n",
    "# Fazla kolonları çıkar\n",
    "X_test = X_test[expected_columns]\n",
    "\n",
    "# Final test input (modelle aynı sırada ve yapıda)\n",
    "print(\"✅ Test features aligned. Shape:\", X_test.shape)\n"
   ]
  },
  {
   "cell_type": "code",
   "execution_count": 28,
   "id": "ca012ec3",
   "metadata": {},
   "outputs": [],
   "source": [
    "import numpy as np\n",
    "\n",
    "# Predict probabilities for class 1 (Female)\n",
    "y_test_proba = cat_model.predict_proba(test_pool)[:, 1]\n",
    "\n",
    "# Apply 0.5 threshold\n",
    "y_test_pred = np.where(y_test_proba >= 0.5, 'F', 'M')\n"
   ]
  },
  {
   "cell_type": "code",
   "execution_count": 29,
   "id": "16b872d8",
   "metadata": {},
   "outputs": [],
   "source": [
    "import numpy as np\n",
    "\n",
    "# Predict probabilities for class 1 (Female)\n",
    "y_test_proba = cat_model.predict_proba(test_pool)[:, 1]\n",
    "\n",
    "# Apply 0.5 threshold\n",
    "y_test_pred = np.where(y_test_proba >= 0.5, 'F', 'M')\n"
   ]
  },
  {
   "cell_type": "code",
   "execution_count": 36,
   "id": "494ee464",
   "metadata": {},
   "outputs": [
    {
     "name": "stdout",
     "output_type": "stream",
     "text": [
      "Submission file saved\n"
     ]
    }
   ],
   "source": [
    "import pandas as pd\n",
    "\n",
    "# Create submission DataFrame\n",
    "submission = pd.DataFrame({\n",
    "    'unique_id': user_features_test['unique_id'],\n",
    "    'probability_female': y_test_proba,  # from model.predict_proba()[:, 1]\n",
    "    'gender': y_test_pred                # predicted class labels: 'F' or 'M'\n",
    "})\n",
    "\n",
    "# Save to CSV\n",
    "submission.to_csv(r'C:\\Users\\SUDE\\Desktop\\ie425\\test_prediction.csv', index=False)\n",
    "print(\"Submission file saved\")\n",
    "\n"
   ]
  },
  {
   "cell_type": "code",
   "execution_count": 2,
   "id": "d6b60fe8",
   "metadata": {},
   "outputs": [
    {
     "name": "stdout",
     "output_type": "stream",
     "text": [
      "✅ Mean AUC: 0.8550\n",
      "📉 Mean BER: 0.2205\n"
     ]
    }
   ],
   "source": [
    "from catboost import CatBoostClassifier, Pool\n",
    "from sklearn.model_selection import StratifiedKFold\n",
    "from sklearn.metrics import roc_auc_score, balanced_accuracy_score\n",
    "import pandas as pd\n",
    "import numpy as np\n",
    "\n",
    "# Load training data\n",
    "df = pd.read_csv(\"train_features.csv\")\n",
    "X = df.drop(columns=['unique_id', 'gender'])\n",
    "y = df['gender'].map({'M': 0, 'F': 1})\n",
    "\n",
    "# Detect categorical features\n",
    "cat_features = X.select_dtypes(include='object').columns.tolist()\n",
    "\n",
    "# Optimized model parameters\n",
    "model = CatBoostClassifier(\n",
    "    iterations=700,\n",
    "    learning_rate=0.03,\n",
    "    depth=6,\n",
    "    l2_leaf_reg=4,\n",
    "    random_strength=1,\n",
    "    border_count=64,\n",
    "    auto_class_weights='Balanced',\n",
    "    cat_features=cat_features,\n",
    "    eval_metric='AUC',\n",
    "    verbose=0,\n",
    "    random_seed=42\n",
    ")\n",
    "\n",
    "# Cross-validation\n",
    "cv = StratifiedKFold(n_splits=5, shuffle=True, random_state=42)\n",
    "auc_scores = []\n",
    "ber_scores = []\n",
    "\n",
    "for train_idx, val_idx in cv.split(X, y):\n",
    "    X_train, X_val = X.iloc[train_idx], X.iloc[val_idx]\n",
    "    y_train, y_val = y.iloc[train_idx], y.iloc[val_idx]\n",
    "\n",
    "    train_pool = Pool(X_train, y_train, cat_features=cat_features)\n",
    "    val_pool = Pool(X_val, y_val, cat_features=cat_features)\n",
    "\n",
    "    model.fit(train_pool)\n",
    "    y_proba = model.predict_proba(val_pool)[:, 1]\n",
    "    y_pred = (y_proba >= 0.5).astype(int)\n",
    "\n",
    "    auc_scores.append(roc_auc_score(y_val, y_proba))\n",
    "    ber_scores.append(1 - balanced_accuracy_score(y_val, y_pred))\n",
    "\n",
    "print(f\" Mean AUC: {np.mean(auc_scores):.4f}\")\n",
    "print(f\" Mean BER: {np.mean(ber_scores):.4f}\")\n",
    "\n",
    "\n"
   ]
  },
  {
   "cell_type": "code",
   "execution_count": 4,
   "id": "95a46784",
   "metadata": {},
   "outputs": [],
   "source": [
    "import pandas as pd\n",
    "\n",
    "test = pd.read_csv(r'C:\\Users\\SUDE\\Desktop\\425test\\IE425_Spring25_test_data.csv')\n",
    "\n",
    "# Fill missing values and typecast\n",
    "test['sellingprice'] = test['sellingprice'].fillna(0)\n",
    "test['product_gender'] = test['product_gender'].fillna('Unknown')\n",
    "test['brand_id'] = test['brand_id'].fillna('unknown')\n",
    "test['brand_name'] = test['brand_name'].fillna('unknown')\n",
    "test['product_name'] = test['product_name'].fillna('unknown')\n",
    "\n",
    "# Cast to category for known columns\n",
    "for col in ['user_action', 'product_gender', 'brand_id', 'brand_name', 'businessunit', 'Level1_Category_Name']:\n",
    "    test[col] = test[col].astype('category')\n"
   ]
  },
  {
   "cell_type": "code",
   "execution_count": 5,
   "id": "2e352183",
   "metadata": {},
   "outputs": [
    {
     "name": "stderr",
     "output_type": "stream",
     "text": [
      "C:\\Users\\SUDE\\AppData\\Local\\Temp\\ipykernel_23700\\3405751036.py:2: FutureWarning: The default value of observed=False is deprecated and will change to observed=True in a future version of pandas. Specify observed=False to silence this warning and retain the current behavior\n",
      "  action_summary = test.pivot_table(\n"
     ]
    }
   ],
   "source": [
    "# Action summary\n",
    "action_summary = test.pivot_table(\n",
    "    index='unique_id', columns='user_action', aggfunc='size', fill_value=0\n",
    ")\n",
    "\n",
    "# Price features\n",
    "price_features = test.groupby('unique_id').agg(\n",
    "    avg_price=('sellingprice', 'mean'),\n",
    "    total_price=('sellingprice', 'sum'),\n",
    "    max_price=('sellingprice', 'max')\n",
    ")\n",
    "\n",
    "# Product gender count\n",
    "product_gender_counts = (\n",
    "    test.groupby('unique_id')['product_gender']\n",
    "    .value_counts()\n",
    "    .unstack(fill_value=0)\n",
    ")\n",
    "product_gender_counts.columns = [f'product_gender_{col}' for col in product_gender_counts.columns]\n",
    "\n",
    "# Brand variety\n",
    "brand_counts = test.groupby('unique_id').agg(\n",
    "    brand_variety=('brand_id', 'nunique')\n",
    ")\n",
    "\n",
    "# Combine into feature matrix\n",
    "user_features_test = pd.concat(\n",
    "    [action_summary, price_features, product_gender_counts, brand_counts],\n",
    "    axis=1\n",
    ").fillna(0)\n",
    "\n",
    "# Save unique_id separately\n",
    "test_ids = user_features_test.index\n"
   ]
  },
  {
   "cell_type": "code",
   "execution_count": 6,
   "id": "3d6ec374",
   "metadata": {},
   "outputs": [
    {
     "name": "stdout",
     "output_type": "stream",
     "text": [
      "Submission file saved\n"
     ]
    }
   ],
   "source": [
    "# Predict probabilities\n",
    "test_proba = model.predict_proba(user_features_test)[:, 1]\n",
    "\n",
    "# Predict labels\n",
    "test_pred = np.where(test_proba >= 0.5, 'F', 'M')\n",
    "\n",
    "# Create submission dataframe\n",
    "submission = pd.DataFrame({\n",
    "    'unique_id': test_ids,\n",
    "    'probability_female': test_proba,\n",
    "    'gender': test_pred\n",
    "})\n",
    "\n",
    "# Save to file\n",
    "submission.to_csv(r'C:\\Users\\SUDE\\Desktop\\ie425\\test_prediction.csv', index=False)\n",
    "print(\"Submission file saved\")\n",
    "\n",
    "\n"
   ]
  },
  {
   "cell_type": "code",
   "execution_count": 10,
   "id": "b7df8afc",
   "metadata": {},
   "outputs": [
    {
     "name": "stdout",
     "output_type": "stream",
     "text": [
      " Ensemble AUC: 0.8552\n",
      " Ensemble BER: 0.5000\n"
     ]
    }
   ],
   "source": [
    "import pandas as pd\n",
    "import numpy as np\n",
    "from catboost import CatBoostClassifier, Pool\n",
    "from sklearn.linear_model import LogisticRegressionCV\n",
    "from sklearn.model_selection import StratifiedKFold\n",
    "from sklearn.preprocessing import StandardScaler\n",
    "from sklearn.metrics import roc_auc_score, balanced_accuracy_score\n",
    "\n",
    "# Load data\n",
    "df = pd.read_csv(\"train_features.csv\")\n",
    "X = df.drop(columns=['unique_id', 'gender'])\n",
    "y = df['gender'].map({'M': 0, 'F': 1})\n",
    "\n",
    "# Detect categorical columns for CatBoost\n",
    "cat_features = X.select_dtypes(include='object').columns.tolist()\n",
    "\n",
    "# Prepare ElasticNet\n",
    "X_scaled = X.copy()\n",
    "X_scaled[cat_features] = X_scaled[cat_features].astype(str)\n",
    "scaler = StandardScaler()\n",
    "X_scaled = pd.DataFrame(\n",
    "    scaler.fit_transform(X_scaled.select_dtypes(include=np.number)),\n",
    "    columns=X.select_dtypes(include=np.number).columns\n",
    ")\n",
    "\n",
    "# CV setup\n",
    "cv = StratifiedKFold(n_splits=5, shuffle=True, random_state=42)\n",
    "cat_preds = np.zeros(len(X))\n",
    "enet_preds = np.zeros(len(X))\n",
    "\n",
    "for train_idx, val_idx in cv.split(X, y):\n",
    "    # CatBoost\n",
    "    X_train_cat, X_val_cat = X.iloc[train_idx], X.iloc[val_idx]\n",
    "    y_train, y_val = y.iloc[train_idx], y.iloc[val_idx]\n",
    "    train_pool = Pool(X_train_cat, y_train, cat_features=cat_features)\n",
    "    val_pool = Pool(X_val_cat, cat_features=cat_features)\n",
    "\n",
    "    cat_model = CatBoostClassifier(\n",
    "        iterations=700, learning_rate=0.03, depth=6,\n",
    "        l2_leaf_reg=4, auto_class_weights='Balanced',\n",
    "        random_seed=42, verbose=0\n",
    "    )\n",
    "    cat_model.fit(train_pool)\n",
    "    cat_preds[val_idx] = cat_model.predict_proba(val_pool)[:, 1]\n",
    "\n",
    "    # ElasticNet\n",
    "    X_train_enet, X_val_enet = X_scaled.iloc[train_idx], X_scaled.iloc[val_idx]\n",
    "    enet = LogisticRegressionCV(\n",
    "    Cs=10,\n",
    "    cv=5,\n",
    "    penalty='elasticnet',\n",
    "    solver='saga',\n",
    "    l1_ratios=[0.5],\n",
    "    scoring='roc_auc',\n",
    "    max_iter=5000,  # Arttırıldı\n",
    "    tol=1e-3,       # Daha gevşek tolerans\n",
    "    random_state=42\n",
    ")\n",
    "\n",
    "\n",
    "# Stack predictions\n",
    "stacked_X = np.vstack((cat_preds, enet_preds)).T\n",
    "meta_model = LogisticRegressionCV(cv=5, scoring='roc_auc', max_iter=1000, random_state=42)\n",
    "meta_model.fit(stacked_X, y)\n",
    "\n",
    "# Evaluate\n",
    "meta_pred = meta_model.predict_proba(stacked_X)[:, 1]\n",
    "auc = roc_auc_score(y, meta_pred)\n",
    "ber = 1 - balanced_accuracy_score(y, (meta_pred >= 0.5).astype(int))\n",
    "\n",
    "print(f\" Ensemble AUC: {auc:.4f}\")\n",
    "print(f\" Ensemble BER: {ber:.4f}\")\n"
   ]
  },
  {
   "cell_type": "code",
   "execution_count": 13,
   "id": "3f54e819",
   "metadata": {},
   "outputs": [
    {
     "data": {
      "text/plain": [
       "(np.float64(0.6474747474747475),\n",
       " np.float64(0.19323849666315418),\n",
       " np.float64(0.8503582718651211))"
      ]
     },
     "execution_count": 13,
     "metadata": {},
     "output_type": "execute_result"
    }
   ],
   "source": [
    "import pandas as pd\n",
    "import numpy as np\n",
    "from sklearn.linear_model import LogisticRegression\n",
    "from catboost import CatBoostClassifier, Pool\n",
    "from sklearn.metrics import balanced_accuracy_score, roc_auc_score\n",
    "from sklearn.preprocessing import StandardScaler\n",
    "\n",
    "# Load dataset\n",
    "df = pd.read_csv(r'train_features.csv')\n",
    "X = df.drop(columns=[\"unique_id\", \"gender\"])\n",
    "y = df[\"gender\"].map({\"M\": 0, \"F\": 1})\n",
    "\n",
    "# Detect categorical columns\n",
    "categorical_cols = X.select_dtypes(include=\"object\").columns.tolist()\n",
    "\n",
    "# Standardize numerical features for ElasticNet\n",
    "numerical_cols = X.select_dtypes(include=[\"float64\", \"int64\"]).columns.tolist()\n",
    "scaler = StandardScaler()\n",
    "X_scaled = X.copy()\n",
    "X_scaled[numerical_cols] = scaler.fit_transform(X[numerical_cols])\n",
    "\n",
    "# Split train/validation set\n",
    "from sklearn.model_selection import train_test_split\n",
    "X_train_cat, X_val_cat, y_train, y_val = train_test_split(X, y, test_size=0.2, random_state=42)\n",
    "X_train_enet = X_scaled.loc[X_train_cat.index]\n",
    "X_val_enet = X_scaled.loc[X_val_cat.index]\n",
    "\n",
    "# Train CatBoost\n",
    "cat_model = CatBoostClassifier(iterations=200, learning_rate=0.05, depth=6, eval_metric=\"AUC\", random_seed=42, verbose=0)\n",
    "cat_model.fit(Pool(X_train_cat, y_train, cat_features=categorical_cols))\n",
    "y_pred_cat = cat_model.predict_proba(Pool(X_val_cat, cat_features=categorical_cols))[:, 1]\n",
    "\n",
    "# Train ElasticNet\n",
    "enet_model = LogisticRegression(penalty='elasticnet', solver='saga', l1_ratio=0.5, max_iter=5000, random_state=42)\n",
    "enet_model.fit(X_train_enet, y_train)\n",
    "y_pred_enet = enet_model.predict_proba(X_val_enet)[:, 1]\n",
    "\n",
    "# Weighted ensemble\n",
    "ensemble_proba = 0.4 * y_pred_cat + 0.6 * y_pred_enet\n",
    "\n",
    "# Threshold tuning\n",
    "thresholds = np.linspace(0.3, 0.7, 100)\n",
    "best_threshold, best_ber = 0.5, 1.0\n",
    "for t in thresholds:\n",
    "    preds = (ensemble_proba >= t).astype(int)\n",
    "    ber = 1 - balanced_accuracy_score(y_val, preds)\n",
    "    if ber < best_ber:\n",
    "        best_ber = ber\n",
    "        best_threshold = t\n",
    "\n",
    "# Evaluation\n",
    "auc = roc_auc_score(y_val, ensemble_proba)\n",
    "\n",
    "(best_threshold, best_ber, auc)\n"
   ]
  },
  {
   "cell_type": "code",
   "execution_count": 21,
   "id": "1149f8a2",
   "metadata": {},
   "outputs": [
    {
     "name": "stdout",
     "output_type": "stream",
     "text": [
      "Submission file saved\n"
     ]
    }
   ],
   "source": [
    "# Load test data\n",
    "test_raw = pd.read_csv(r'C:\\Users\\SUDE\\Desktop\\425test\\IE425_Spring25_test_data.csv')\n",
    "\n",
    "# Feature engineering: follow the same process as training\n",
    "# (Assuming you already have this saved as user_features_test.csv)\n",
    "user_features_test = pd.read_csv(\"train_features.csv\")  \n",
    "\n",
    "# Align columns with train\n",
    "user_features_test = user_features_test[X.columns]  # Ensure same order and columns\n",
    "\n",
    "# Scale numerical features\n",
    "user_features_test_scaled = user_features_test.copy()\n",
    "user_features_test_scaled[numerical_cols] = scaler.transform(user_features_test[numerical_cols])\n",
    "user_features_test['unique_id'] = test_raw.groupby('unique_id').ngroup()\n",
    "\n",
    "# CatBoost probability predictions\n",
    "y_proba_cat = cat_model.predict_proba(Pool(user_features_test, cat_features=categorical_cols))[:, 1]\n",
    "\n",
    "# ElasticNet probability predictions\n",
    "y_proba_enet = enet_model.predict_proba(user_features_test_scaled)[:, 1]\n",
    "\n",
    "# Final ensemble (same weights as validation)\n",
    "y_proba_ensemble = 0.4 * y_proba_cat + 0.6 * y_proba_enet\n",
    "\n",
    "# Final labels based on tuned threshold\n",
    "y_pred_labels = np.where(y_proba_ensemble >= 0.5, 'F', 'M')\n",
    "submission = pd.DataFrame({\n",
    "    'unique_id': user_features_test['unique_id'],\n",
    "    'probability_female': y_proba_ensemble,\n",
    "    'gender': y_pred_labels\n",
    "})\n",
    "\n",
    "# Save to CSV in required format\n",
    "submission.to_csv(r'C:\\Users\\SUDE\\Desktop\\425test\\test_prediction.csv', index=False)\n",
    "print(\"Submission file saved\")\n",
    "\n"
   ]
  }
 ],
 "metadata": {
  "kernelspec": {
   "display_name": "Python 3",
   "language": "python",
   "name": "python3"
  },
  "language_info": {
   "codemirror_mode": {
    "name": "ipython",
    "version": 3
   },
   "file_extension": ".py",
   "mimetype": "text/x-python",
   "name": "python",
   "nbconvert_exporter": "python",
   "pygments_lexer": "ipython3",
   "version": "3.9.0"
  }
 },
 "nbformat": 4,
 "nbformat_minor": 5
}
